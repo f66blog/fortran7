{
 "cells": [
  {
   "cell_type": "markdown",
   "metadata": {},
   "source": [
    "# Jupyter gfort kernel \n",
    "\n",
    "## switching compilers\n",
    "- %compiler: [*gofrtran/gcc/g++*] [**.** *file extention*]  \n",
    "  \n",
    "Default compiler is gfortran. "
   ]
  },
  {
   "cell_type": "markdown",
   "metadata": {},
   "source": [
    "## free format source"
   ]
  },
  {
   "cell_type": "code",
   "execution_count": 1,
   "metadata": {},
   "outputs": [
    {
     "name": "stdout",
     "output_type": "stream",
     "text": [
      " GCC version 7.3.0\n",
      " -mtune=generic -march=x86-64\n"
     ]
    }
   ],
   "source": [
    "program compiler\n",
    "    use, intrinsic :: iso_fortran_env  ! F08\n",
    "    implicit none\n",
    "    print *, compiler_version()\n",
    "    print *, compiler_options()\n",
    "end program compiler "
   ]
  },
  {
   "cell_type": "markdown",
   "metadata": {},
   "source": [
    "## fixed format source\n",
    "- %compiler: gfortran .f"
   ]
  },
  {
   "cell_type": "code",
   "execution_count": 2,
   "metadata": {},
   "outputs": [
    {
     "name": "stdout",
     "output_type": "stream",
     "text": [
      "           I         I**2     SUM(2*I-1)\n",
      "        --------------------------------\n",
      "           1           1           1\n",
      "           2           4           4\n",
      "           3           9           9\n",
      "           4          16          16\n",
      "           5          25          25\n",
      "           6          36          36\n",
      "           7          49          49\n",
      "           8          64          64\n",
      "           9          81          81\n",
      "          10         100         100\n",
      "        --------------------------------\n"
     ]
    },
    {
     "name": "stderr",
     "output_type": "stream",
     "text": [
      "STOP NORMAL END\n"
     ]
    }
   ],
   "source": [
    "%compiler: gfortran .f\n",
    "C FIXED FORMAT SOURCE\n",
    "C23456789012345678901234567890\n",
    "      PROGRAM FXDFMT\n",
    "      PARAMETER (N = 10)\n",
    "      ISUM = 0\n",
    "      PRINT *, '          I         I**2     SUM(2*I-1)'\n",
    "      PRINT *, '       --------------------------------'\n",
    "      DO 10 I = 1, N\n",
    "         IODD = 2 * I - 1\n",
    "         ISUM = ISUM + IODD\n",
    "         PRINT *, I, I**2, ISUM\n",
    "10    CONTINUE\n",
    "      PRINT *, '       --------------------------------'\n",
    "      STOP 'NORMAL END'\n",
    "      END "
   ]
  },
  {
   "cell_type": "markdown",
   "metadata": {},
   "source": [
    "## compiler options\n",
    "- %fcflags: *arg1 arg2* ....\n",
    "- %ldflags: *arg1 arg2* ....\n",
    "\n",
    "gfortran **%fcflags**  source.f90  **%ldglags**"
   ]
  },
  {
   "cell_type": "code",
   "execution_count": 3,
   "metadata": {},
   "outputs": [
    {
     "name": "stdout",
     "output_type": "stream",
     "text": [
      " Sum_1..100 1/x^4 =   1.08232212    \n",
      " pi^4/90          =   1.08232331    \n"
     ]
    },
    {
     "name": "stderr",
     "output_type": "stream",
     "text": [
      "STOP normal end\n"
     ]
    }
   ],
   "source": [
    "%fcflags: -O2\n",
    "program optimization_2\n",
    "    implicit none\n",
    "    real, parameter :: pi = 4.0 * atan(1.0)\n",
    "    real :: zeta4\n",
    "    integer :: i\n",
    "    zeta4 = 0.0\n",
    "    do i = 1, 10**2\n",
    "        zeta4 = zeta4 + 1.0 / real(i**4) \n",
    "    end do\n",
    "    print *, 'Sum_1..100 1/x^4 =', zeta4\n",
    "    print *, 'pi^4/90          =', pi**4 / 90.0 \n",
    "    stop 'normal end'\n",
    "end program optimization_2"
   ]
  },
  {
   "cell_type": "markdown",
   "metadata": {},
   "source": [
    "\n",
    "$\n",
    "\\zeta(4)=\\sum_{k\\, =1}^\\infty{1\\over k^4}={\\pi^4\\over90}\n",
    "$"
   ]
  },
  {
   "cell_type": "markdown",
   "metadata": {},
   "source": [
    "## separate module compilation\n",
    "%module: *objectname*"
   ]
  },
  {
   "cell_type": "code",
   "execution_count": 4,
   "metadata": {},
   "outputs": [
    {
     "name": "stderr",
     "output_type": "stream",
     "text": [
      "[gfort kernel] module objects created successfully: mod.o"
     ]
    }
   ],
   "source": [
    "%module: mod\n",
    "%fcflags: -O2\n",
    "module m_sort\n",
    "    implicit none\n",
    "contains\n",
    "    recursive function qsort(x) result(res)\n",
    "        real, intent(in) :: x(:)\n",
    "        real             :: res(size(x))\n",
    "        if (size(x) == 0) return\n",
    "        res = [qsort( pack(x(2:), x(2:) <= x(1)) ), x(1), &\n",
    "               qsort( pack(x(2:), x(2:) >  x(1)) ) ]\n",
    "    end function qsort\n",
    "end module m_sort"
   ]
  },
  {
   "cell_type": "code",
   "execution_count": 5,
   "metadata": {},
   "outputs": [
    {
     "name": "stdout",
     "output_type": "stream",
     "text": [
      " 0.1155 0.4123 0.3952 0.4622 0.0031 0.9343 0.9895 0.9599 0.4829 0.0218\n",
      " 0.1987 0.1876 0.2523 0.5254 0.8738 0.6752 0.7441 0.2684 0.9451 0.3154\n",
      " 0.1766 0.7046 0.8786 0.5281 0.1586 0.3020 0.2923 0.3206 0.4691 0.5830\n",
      " 0.6207 0.3350 0.5098 0.0185 0.6186 0.5890 0.1705 0.0636 0.8819 0.5734\n",
      " 0.1903 0.6538 0.2218 0.3860 0.8843 0.8884 0.9591 0.2452 0.1971 0.1696\n",
      "\n",
      " 0.0031 0.0185 0.0218 0.0636 0.1155 0.1586 0.1696 0.1705 0.1766 0.1876\n",
      " 0.1903 0.1971 0.1987 0.2218 0.2452 0.2523 0.2684 0.2923 0.3020 0.3154\n",
      " 0.3206 0.3350 0.3860 0.3952 0.4123 0.4622 0.4691 0.4829 0.5098 0.5254\n",
      " 0.5281 0.5734 0.5830 0.5890 0.6186 0.6207 0.6538 0.6752 0.7046 0.7441\n",
      " 0.8738 0.8786 0.8819 0.8843 0.8884 0.9343 0.9451 0.9591 0.9599 0.9895\n"
     ]
    }
   ],
   "source": [
    "%fcflags: mod.o -O2\n",
    "program quicksort\n",
    "    use m_sort\n",
    "    implicit none\n",
    "    integer, parameter :: n = 50\n",
    "    real :: x(n)\n",
    "    call random_seed()\n",
    "    call random_number(x)\n",
    "    print '(10f7.4)', x\n",
    "    print *\n",
    "    print '(10f7.4)', qsort(x)\n",
    "end program quicksort"
   ]
  },
  {
   "cell_type": "markdown",
   "metadata": {},
   "source": [
    "## c compiler\n",
    "- %compiler: gcc .c"
   ]
  },
  {
   "cell_type": "code",
   "execution_count": 6,
   "metadata": {},
   "outputs": [
    {
     "name": "stdout",
     "output_type": "stream",
     "text": [
      "Hello, World!\n"
     ]
    }
   ],
   "source": [
    "%compiler: gcc .c\n",
    "#include <stdio.h>\n",
    "int main(void) {\n",
    "   printf(\"Hello, World!\\n\");\n",
    "   return 0;\n",
    "}"
   ]
  },
  {
   "cell_type": "markdown",
   "metadata": {},
   "source": [
    "## c++ compiler\n",
    "- %compiler: g++ .c++"
   ]
  },
  {
   "cell_type": "code",
   "execution_count": 8,
   "metadata": {},
   "outputs": [
    {
     "name": "stdout",
     "output_type": "stream",
     "text": [
      "Hello World!\n"
     ]
    }
   ],
   "source": [
    "%compiler: g++ .c++\n",
    "#include <iostream>\n",
    "\n",
    "using namespace std;\n",
    "\n",
    "int main() {\n",
    "    std::cout << \"Hello World!\" << std::endl;\n",
    "    return 0;\n",
    "}"
   ]
  },
  {
   "cell_type": "markdown",
   "metadata": {},
   "source": [
    "# Matplotlib ready\n",
    "- %fig: *arg*\n",
    "\n",
    "    _fig = plt.figure( *arg* )  "
   ]
  },
  {
   "cell_type": "code",
   "execution_count": 9,
   "metadata": {},
   "outputs": [
    {
     "name": "stderr",
     "output_type": "stream",
     "text": [
      "STOP normal end\n"
     ]
    }
   ],
   "source": [
    "program sin_curve\n",
    "    implicit none\n",
    "    real   , parameter :: pi = 4.0 * atan(1.0)\n",
    "    integer, parameter :: n = 100\n",
    "    real :: x\n",
    "    integer :: i\n",
    "    write(9, *) 'x', 'sin(x)'\n",
    "    do i = 0, n\n",
    "        x = 2.0 * pi * i / n \n",
    "        write(9, *) x, sin(x)\n",
    "    end do\n",
    "    stop 'normal end'\n",
    "end program sin_curve"
   ]
  },
  {
   "cell_type": "markdown",
   "metadata": {},
   "source": [
    "```\n",
    "%fig: arg  \n",
    "```\n",
    "\n",
    "```python\n",
    "import matplotlib.pyplot as plt  \n",
    "import numpy as np  \n",
    "_fig = plt.figure( arg )  \n",
    "```\n",
    "> Cell inputs are executed by Python3 exec-function line by line.  \n",
    "> Assigment to _fig is possible. (Multiple assignment _fig, ax = ... is not allowed.)  \n",
    "\n",
    "```python\n",
    "plt.plot\n",
    "```"
   ]
  },
  {
   "cell_type": "code",
   "execution_count": 10,
   "metadata": {},
   "outputs": [
    {
     "data": {
      "image/png": "[encoded data removed]"
     },
     "metadata": {},
     "output_type": "display_data"
    }
   ],
   "source": [
    "%fig: figsize=(7, 4)\n",
    "x, y = np.loadtxt('fort.9', unpack = True, skiprows=1)\n",
    "plt.grid(which='both')\n",
    "plt.plot(x, y)\n",
    "plt.title('Sine wave', fontsize = 20)\n",
    "plt.xlabel('x'       , fontsize = 15)\n",
    "plt.ylabel('sin(x)'  , fontsize = 15)"
   ]
  },
  {
   "cell_type": "markdown",
   "metadata": {},
   "source": [
    "## load images\n"
   ]
  }
 ],
 "metadata": {
  "kernelspec": {
   "display_name": "gfortran",
   "language": "Fortran",
   "name": "gfort_spec"
  },
  "language_info": {
   "file_extension": "f90",
   "mimetype": "text/plain",
   "name": "fortran"
  }
 },
 "nbformat": 4,
 "nbformat_minor": 2
}
